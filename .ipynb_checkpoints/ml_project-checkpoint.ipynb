{
 "cells": [
  {
   "cell_type": "markdown",
   "id": "75289383-0ff1-44fb-acd1-3b505f31bd73",
   "metadata": {},
   "source": [
    "**Abstract** \n",
    "\n",
    "In this project, I develop a music-composition model using machine-learning techniques. I train my model using some of Frédéric Chopin's nocturnes. With the features identified as three consecutive notes, their octave and duration values, as well as three distances in between, I perform a multiclass classification with softmax cost function that leads to a target note with its own octave and duration. By replacing the argmax prediction with a list of probable outcomes, I generate a next note. As an application, I not only write a simple melody and let the computer build upon it using the model but also let the computer write a short piece from scratch. "
   ]
  },
  {
   "cell_type": "markdown",
   "id": "7dd101a5-e77c-49a5-bd38-15255aaf4079",
   "metadata": {},
   "source": [
    "# Introduction\n",
    "\n",
    "We compose by imitation. The inspiration can derive from our first music teacher's impressions, our favorite band's music, or simply sounds in Nature. The more we contemplate about this, the more we realize that the way in which we learn how to compose music seems to be transferrable to a non-sentient being, for its strong potential for being formulated rigorously. In this project, I use machine-learning techniques to teach my computer how to compose music.\n",
    "\n",
    "Two years ago, I worked on a _random composer_ code as a weekend project. My primary inspiration was the random music generator created by Terry A. Davis employed in his TempleOS. The Mathematica code of this project is available at [github.com/kagsimsek/random_compose](https://github.com/kagsimsek/random_compose). With the user input for the beat per minute (BPM), time signature, complexity, lead and back instruments, chord progression, and the number of repetitions, the code produces a sequence of notes and can be played within the present Mathematica notebook or exported to be used in other projects. Now, I want to employ the machine-learning techniques to attack the same project from a different perspective so as to create a _not-so-random composer_. \n",
    "\n",
    "In Section 2, I present a detailed methodology of the _composer_. In Section 3, I put my _composer_ to work by generating samples of music. Section 4 contains my conclusion. "
   ]
  },
  {
   "cell_type": "markdown",
   "id": "8f4ee1ac-251e-4f83-929c-7fe365ba9516",
   "metadata": {},
   "source": [
    "# Methodology\n",
    "\n",
    "In this section, I detail our framework to build the _composer_. I start with the data. Due to their elegant simplicity, I train my model with Frédéric Chopin's nocturnes. Chopin composed 21 nocturnes. They are grouped into opus numbers and here is how they are distributed:\n",
    "\n",
    "1. Op. 9: Nocturnes 1-3\n",
    "2. Op. 15: Nocturnes 4-6\n",
    "3. Op. 27: Nocturnes 7-8\n",
    "4. Op. 32: Nocturnes 9-10\n",
    "5. Op. 37: Nocturnes 11-12\n",
    "6. Op. 48: Nocturnes 13-14\n",
    "7. Op. 55: Nocturnes 15-16\n",
    "8. Op. 62: Nocturnes 17-18\n",
    "9. Op. Posth.: Nocturnes 19-21\n",
    "\n",
    "I gather data from [MuseScore.com](https://musescore.com). My idea is just to focus on the _melody notes_ in these pieces because at the end of the day, I want to create a table as follows for later manipulation:\n",
    "\n",
    "_Table 1._\n",
    "\n",
    "```\n",
    "Note | Octave | Duration (s)\n",
    "----------------------------\n",
    "G    | 4      | 0.99792\n",
    "C    | 5      | 0.74792\n",
    "D    | 5      | 0.24792\n",
    "D#   | 5      | 0.74792\n",
    "F    | 5      | 0.24792\n",
    "...\n",
    "```\n",
    "\n",
    "(N.B. that instead of using the standard duration, i.e. semibreve, minim, crotchet, etc., I use the duration of a note as measured in seconds.) To this end, I carefully remove the bass staff, voicings in the treble staff, dynamics, tempo marks, and all other decorations. To illustrate, the first four bars of Nocturne 21,\n",
    "\n",
    "<img src=\"./src/figures/full.png\" alt=\"full\" width=\"600\"/>\n",
    "_Figure 1._ <br>\n",
    "<br>\n",
    "becomes\n",
    "\n",
    "<img src=\"./src/figures/melody.jpg\" alt=\"melody\" width=\"600\"/>\n",
    "_Figure 2._ <br>\n",
    "<br>\n",
    "Even though the Nocturnes have a sort of elegant simplicity, this reduction is a highly time-consuming work. Thus, I focus only on six of the Nocturnes: 1, 2, 6, 11, 20, and 21. Once I work out the sheet music on Muse Score, I export the simplified sheets as MIDI files and prepare Table 1 using the Python module `pretty_midi`. "
   ]
  },
  {
   "cell_type": "code",
   "execution_count": 8,
   "id": "469a3bea-ba70-4952-a5e0-78f8d95468d4",
   "metadata": {},
   "outputs": [],
   "source": [
    "import pretty_midi\n",
    "\n",
    "# nocturne_#_key_BPM_timesig.mid\n",
    "midi_list = [\n",
    "    './src/midi/nocturne_9-1_Csharp_90_34.mid',\n",
    "    './src/midi/nocturne_9-2_Dsharp_60_34.mid',\n",
    "    './src/midi/nocturne_15-3_Asharp_100_34.mid',\n",
    "    './src/midi/nocturne_37-1_Asharp_66_44.mid',\n",
    "    './src/midi/nocturne_posth-20_A_60_44.mid',\n",
    "    './src/midi/nocturne_posth-21_Dsharp_60_44.mid'\n",
    "    ]\n",
    "raw_data_list = [\n",
    "    './src/data/raw/1.csv',\n",
    "    './src/data/raw/2.csv',\n",
    "    './src/data/raw/3.csv',\n",
    "    './src/data/raw/4.csv',\n",
    "    './src/data/raw/5.csv',\n",
    "    './src/data/raw/6.csv'\n",
    "    ]\n",
    "\n",
    "for i in range(len(midi_list)):\n",
    "    midi_data = pretty_midi.PrettyMIDI(midi_list[i])\n",
    "    melody_notes = [\n",
    "        # get note name in the form e.g. G4 and\n",
    "        # split note name into letter and octave\n",
    "        (note_name[:-1], int(note_name[-1]), note.end - note.start)\n",
    "        for note in midi_data.instruments[0].notes\n",
    "        # assign note name\n",
    "        if (note_name := pretty_midi.note_number_to_name(note.pitch))\n",
    "    ]\n",
    "    with open(raw_data_list[i], 'w') as file:\n",
    "        for elem in melody_notes:\n",
    "            file.write(','.join(map(str, elem)) + \"\\n\")"
   ]
  },
  {
   "cell_type": "markdown",
   "id": "fe8830ce-a314-4696-95d4-01233c4f2ffe",
   "metadata": {},
   "source": [
    "# Applications"
   ]
  },
  {
   "cell_type": "markdown",
   "id": "afe7666d-1671-41e4-87fe-5504592002d5",
   "metadata": {},
   "source": [
    "# Conclusion"
   ]
  },
  {
   "cell_type": "code",
   "execution_count": null,
   "id": "3fd5baf9-2c94-457b-baf9-96db1afbafc6",
   "metadata": {},
   "outputs": [],
   "source": []
  }
 ],
 "metadata": {
  "kernelspec": {
   "display_name": "Python 3 (ipykernel)",
   "language": "python",
   "name": "python3"
  },
  "language_info": {
   "codemirror_mode": {
    "name": "ipython",
    "version": 3
   },
   "file_extension": ".py",
   "mimetype": "text/x-python",
   "name": "python",
   "nbconvert_exporter": "python",
   "pygments_lexer": "ipython3",
   "version": "3.9.6"
  }
 },
 "nbformat": 4,
 "nbformat_minor": 5
}
